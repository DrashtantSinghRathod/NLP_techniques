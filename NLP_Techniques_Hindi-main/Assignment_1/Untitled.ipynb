{
 "cells": [
  {
   "cell_type": "code",
   "execution_count": 2,
   "id": "03ac7a56",
   "metadata": {},
   "outputs": [
    {
     "name": "stdout",
     "output_type": "stream",
     "text": [
      "Collecting indic-nlp-library\n",
      "  Downloading indic_nlp_library-0.92-py3-none-any.whl (40 kB)\n",
      "\u001b[2K     \u001b[90m━━━━━━━━━━━━━━━━━━━━━━━━━━━━━━━━━━━━━━━\u001b[0m \u001b[32m40.3/40.3 kB\u001b[0m \u001b[31m463.1 kB/s\u001b[0m eta \u001b[36m0:00:00\u001b[0m \u001b[36m0:00:01\u001b[0m\n",
      "\u001b[?25hCollecting sphinx-argparse\n",
      "  Downloading sphinx_argparse-0.4.0-py3-none-any.whl (12 kB)\n",
      "Collecting sphinx-rtd-theme\n",
      "  Downloading sphinx_rtd_theme-1.3.0-py2.py3-none-any.whl (2.8 MB)\n",
      "\u001b[2K     \u001b[90m━━━━━━━━━━━━━━━━━━━━━━━━━━━━━━━━━━━━━━━━\u001b[0m \u001b[32m2.8/2.8 MB\u001b[0m \u001b[31m7.1 MB/s\u001b[0m eta \u001b[36m0:00:00\u001b[0m00:01\u001b[0m00:01\u001b[0m\n",
      "\u001b[?25hCollecting morfessor\n",
      "  Downloading Morfessor-2.0.6-py3-none-any.whl (35 kB)\n",
      "Requirement already satisfied: pandas in /Library/Frameworks/Python.framework/Versions/3.11/lib/python3.11/site-packages (from indic-nlp-library) (1.5.3)\n",
      "Requirement already satisfied: numpy in /Library/Frameworks/Python.framework/Versions/3.11/lib/python3.11/site-packages (from indic-nlp-library) (1.24.1)\n",
      "Requirement already satisfied: python-dateutil>=2.8.1 in /Library/Frameworks/Python.framework/Versions/3.11/lib/python3.11/site-packages (from pandas->indic-nlp-library) (2.8.2)\n",
      "Requirement already satisfied: pytz>=2020.1 in /Library/Frameworks/Python.framework/Versions/3.11/lib/python3.11/site-packages (from pandas->indic-nlp-library) (2022.7.1)\n",
      "Collecting sphinx>=1.2.0\n",
      "  Downloading sphinx-7.2.6-py3-none-any.whl (3.2 MB)\n",
      "\u001b[2K     \u001b[90m━━━━━━━━━━━━━━━━━━━━━━━━━━━━━━━━━━━━━━━━\u001b[0m \u001b[32m3.2/3.2 MB\u001b[0m \u001b[31m10.7 MB/s\u001b[0m eta \u001b[36m0:00:00\u001b[0ma \u001b[36m0:00:01\u001b[0m\n",
      "\u001b[?25hCollecting docutils<0.19\n",
      "  Downloading docutils-0.18.1-py2.py3-none-any.whl (570 kB)\n",
      "\u001b[2K     \u001b[90m━━━━━━━━━━━━━━━━━━━━━━━━━━━━━━━━━━━━━━\u001b[0m \u001b[32m570.0/570.0 kB\u001b[0m \u001b[31m11.7 MB/s\u001b[0m eta \u001b[36m0:00:00\u001b[0ma \u001b[36m0:00:01\u001b[0m\n",
      "\u001b[?25hCollecting sphinxcontrib-jquery<5,>=4\n",
      "  Downloading sphinxcontrib_jquery-4.1-py2.py3-none-any.whl (121 kB)\n",
      "\u001b[2K     \u001b[90m━━━━━━━━━━━━━━━━━━━━━━━━━━━━━━━━━━━━━━━\u001b[0m \u001b[32m121.1/121.1 kB\u001b[0m \u001b[31m8.8 MB/s\u001b[0m eta \u001b[36m0:00:00\u001b[0m\n",
      "\u001b[?25hRequirement already satisfied: six>=1.5 in /Library/Frameworks/Python.framework/Versions/3.11/lib/python3.11/site-packages (from python-dateutil>=2.8.1->pandas->indic-nlp-library) (1.16.0)\n",
      "Collecting sphinxcontrib-applehelp\n",
      "  Downloading sphinxcontrib_applehelp-1.0.7-py3-none-any.whl (120 kB)\n",
      "\u001b[2K     \u001b[90m━━━━━━━━━━━━━━━━━━━━━━━━━━━━━━━━━━━━━━\u001b[0m \u001b[32m120.0/120.0 kB\u001b[0m \u001b[31m14.7 MB/s\u001b[0m eta \u001b[36m0:00:00\u001b[0m\n",
      "\u001b[?25hCollecting sphinxcontrib-devhelp\n",
      "  Downloading sphinxcontrib_devhelp-1.0.5-py3-none-any.whl (83 kB)\n",
      "\u001b[2K     \u001b[90m━━━━━━━━━━━━━━━━━━━━━━━━━━━━━━━━━━━━━━━━\u001b[0m \u001b[32m83.5/83.5 kB\u001b[0m \u001b[31m10.9 MB/s\u001b[0m eta \u001b[36m0:00:00\u001b[0m\n",
      "\u001b[?25hCollecting sphinxcontrib-jsmath\n",
      "  Downloading sphinxcontrib_jsmath-1.0.1-py2.py3-none-any.whl (5.1 kB)\n",
      "Collecting sphinxcontrib-htmlhelp>=2.0.0\n",
      "  Downloading sphinxcontrib_htmlhelp-2.0.4-py3-none-any.whl (99 kB)\n",
      "\u001b[2K     \u001b[90m━━━━━━━━━━━━━━━━━━━━━━━━━━━━━━━━━━━━━━━━\u001b[0m \u001b[32m99.2/99.2 kB\u001b[0m \u001b[31m14.2 MB/s\u001b[0m eta \u001b[36m0:00:00\u001b[0m\n",
      "\u001b[?25hCollecting sphinxcontrib-serializinghtml>=1.1.9\n",
      "  Downloading sphinxcontrib_serializinghtml-1.1.9-py3-none-any.whl (92 kB)\n",
      "\u001b[2K     \u001b[90m━━━━━━━━━━━━━━━━━━━━━━━━━━━━━━━━━━━━━━━━\u001b[0m \u001b[32m92.7/92.7 kB\u001b[0m \u001b[31m8.6 MB/s\u001b[0m eta \u001b[36m0:00:00\u001b[0m\n",
      "\u001b[?25hCollecting sphinxcontrib-qthelp\n",
      "  Downloading sphinxcontrib_qthelp-1.0.6-py3-none-any.whl (89 kB)\n",
      "\u001b[2K     \u001b[90m━━━━━━━━━━━━━━━━━━━━━━━━━━━━━━━━━━━━━━━━\u001b[0m \u001b[32m89.4/89.4 kB\u001b[0m \u001b[31m9.5 MB/s\u001b[0m eta \u001b[36m0:00:00\u001b[0m\n",
      "\u001b[?25hRequirement already satisfied: Jinja2>=3.0 in /Library/Frameworks/Python.framework/Versions/3.11/lib/python3.11/site-packages (from sphinx>=1.2.0->sphinx-argparse->indic-nlp-library) (3.1.2)\n",
      "Requirement already satisfied: Pygments>=2.14 in /Library/Frameworks/Python.framework/Versions/3.11/lib/python3.11/site-packages (from sphinx>=1.2.0->sphinx-argparse->indic-nlp-library) (2.14.0)\n",
      "Collecting snowballstemmer>=2.0\n",
      "  Downloading snowballstemmer-2.2.0-py2.py3-none-any.whl (93 kB)\n",
      "\u001b[2K     \u001b[90m━━━━━━━━━━━━━━━━━━━━━━━━━━━━━━━━━━━━━━━━\u001b[0m \u001b[32m93.0/93.0 kB\u001b[0m \u001b[31m11.3 MB/s\u001b[0m eta \u001b[36m0:00:00\u001b[0m\n",
      "\u001b[?25hCollecting babel>=2.9\n",
      "  Downloading Babel-2.13.1-py3-none-any.whl (10.1 MB)\n",
      "\u001b[2K     \u001b[90m━━━━━━━━━━━━━━━━━━━━━━━━━━━━━━━━━━━━━━━━\u001b[0m \u001b[32m10.1/10.1 MB\u001b[0m \u001b[31m12.9 MB/s\u001b[0m eta \u001b[36m0:00:00\u001b[0m00:01\u001b[0m0:01\u001b[0m\n",
      "\u001b[?25hCollecting alabaster<0.8,>=0.7\n",
      "  Downloading alabaster-0.7.13-py3-none-any.whl (13 kB)\n",
      "Collecting imagesize>=1.3\n",
      "  Downloading imagesize-1.4.1-py2.py3-none-any.whl (8.8 kB)\n",
      "Requirement already satisfied: requests>=2.25.0 in /Library/Frameworks/Python.framework/Versions/3.11/lib/python3.11/site-packages (from sphinx>=1.2.0->sphinx-argparse->indic-nlp-library) (2.28.2)\n",
      "Requirement already satisfied: packaging>=21.0 in /Library/Frameworks/Python.framework/Versions/3.11/lib/python3.11/site-packages (from sphinx>=1.2.0->sphinx-argparse->indic-nlp-library) (23.2)\n",
      "Requirement already satisfied: MarkupSafe>=2.0 in /Library/Frameworks/Python.framework/Versions/3.11/lib/python3.11/site-packages (from Jinja2>=3.0->sphinx>=1.2.0->sphinx-argparse->indic-nlp-library) (2.1.2)\n",
      "Requirement already satisfied: charset-normalizer<4,>=2 in /Library/Frameworks/Python.framework/Versions/3.11/lib/python3.11/site-packages (from requests>=2.25.0->sphinx>=1.2.0->sphinx-argparse->indic-nlp-library) (3.1.0)\n",
      "Requirement already satisfied: idna<4,>=2.5 in /Library/Frameworks/Python.framework/Versions/3.11/lib/python3.11/site-packages (from requests>=2.25.0->sphinx>=1.2.0->sphinx-argparse->indic-nlp-library) (3.4)\n",
      "Requirement already satisfied: urllib3<1.27,>=1.21.1 in /Library/Frameworks/Python.framework/Versions/3.11/lib/python3.11/site-packages (from requests>=2.25.0->sphinx>=1.2.0->sphinx-argparse->indic-nlp-library) (1.26.15)\n",
      "Requirement already satisfied: certifi>=2017.4.17 in /Library/Frameworks/Python.framework/Versions/3.11/lib/python3.11/site-packages (from requests>=2.25.0->sphinx>=1.2.0->sphinx-argparse->indic-nlp-library) (2022.12.7)\n",
      "Installing collected packages: snowballstemmer, morfessor, sphinxcontrib-jsmath, imagesize, docutils, babel, alabaster, sphinxcontrib-serializinghtml, sphinxcontrib-qthelp, sphinxcontrib-htmlhelp, sphinxcontrib-devhelp, sphinxcontrib-applehelp, sphinx, sphinxcontrib-jquery, sphinx-rtd-theme, sphinx-argparse, indic-nlp-library\n",
      "Successfully installed alabaster-0.7.13 babel-2.13.1 docutils-0.18.1 imagesize-1.4.1 indic-nlp-library-0.92 morfessor-2.0.6 snowballstemmer-2.2.0 sphinx-7.2.6 sphinx-argparse-0.4.0 sphinx-rtd-theme-1.3.0 sphinxcontrib-applehelp-1.0.7 sphinxcontrib-devhelp-1.0.5 sphinxcontrib-htmlhelp-2.0.4 sphinxcontrib-jquery-4.1 sphinxcontrib-jsmath-1.0.1 sphinxcontrib-qthelp-1.0.6 sphinxcontrib-serializinghtml-1.1.9\n",
      "\n",
      "\u001b[1m[\u001b[0m\u001b[34;49mnotice\u001b[0m\u001b[1;39;49m]\u001b[0m\u001b[39;49m A new release of pip is available: \u001b[0m\u001b[31;49m23.0.1\u001b[0m\u001b[39;49m -> \u001b[0m\u001b[32;49m23.3.1\u001b[0m\n",
      "\u001b[1m[\u001b[0m\u001b[34;49mnotice\u001b[0m\u001b[1;39;49m]\u001b[0m\u001b[39;49m To update, run: \u001b[0m\u001b[32;49mpip install --upgrade pip\u001b[0m\n"
     ]
    }
   ],
   "source": [
    "!pip install indic-nlp-library"
   ]
  },
  {
   "cell_type": "code",
   "execution_count": 4,
   "id": "096ed69b",
   "metadata": {},
   "outputs": [
    {
     "name": "stdout",
     "output_type": "stream",
     "text": [
      "विश्व\n"
     ]
    }
   ],
   "source": [
    "import re\n",
    "from indicnlp.tokenize import indic_tokenize\n",
    "\n",
    "def remove_non_hindi(text):\n",
    "    # Define a regular expression pattern to match Hindi Unicode range\n",
    "    hindi_pattern = re.compile(r'[\\u0900-\\u097F]+')\n",
    "\n",
    "    # Tokenize the text using IndicNLP tokenizer\n",
    "    tokens = indic_tokenize.trivial_tokenize(text, lang='hi')\n",
    "\n",
    "    # Keep only tokens that match the Hindi Unicode range\n",
    "    hindi_tokens = [token for token in tokens if hindi_pattern.match(token)]\n",
    "\n",
    "    # Join the Hindi tokens back into text\n",
    "    cleaned_text = ' '.join(hindi_tokens)\n",
    "\n",
    "    return cleaned_text\n",
    "\n",
    "# Example usage\n",
    "input_text = \"Helloनमस्ते 123 world विश्व\"\n",
    "cleaned_text = remove_non_hindi(input_text)\n",
    "print(cleaned_text)\n"
   ]
  },
  {
   "cell_type": "code",
   "execution_count": 19,
   "id": "7493f063",
   "metadata": {},
   "outputs": [],
   "source": [
    "vowel = [\"ा\", \"ि\", \"ी\", \"ु\", \"ू\", \"े\", \"ो\", \"ै\", \"ौ\", \"ृ\", \"ॄ\", \"ॉ\", \"ं\", \"्\",\"अ\", \"आ\", \"इ\", \"ई\", \"उ\", \"ऊ\", \"ऋ\",\"ए\", \"ऐ\", \"ओ\", \"औ\", \"अं\", \"अः\"]\n",
    "dict={\"ा\":\"आ\",\"ि\":\"इ\",\"ी\":\"ई\",\"ु\":\"उ\",\"ू\":\"ऊ\",\"े\":\"ए\",\"ै\":\"ऐ\",\"ो\":\"ओ\",\"ौ\":\"औ\", \"ं\":\"अं\",\"ृ\":\"ऋ\",'ॉ':\"ऑ\"}\n",
    "word= \"कल्पना\"\n",
    "\n",
    "syll=[]\n",
    "def syl(w):\n",
    "    curr1=\"\"\n",
    "    \n",
    "    for i in range(len(w)-1):\n",
    "        curr1+=w[i]\n",
    "        if w[i]== '्' :\n",
    "            print(1)\n",
    "            curr1 = curr1[:-2]\n",
    "            curr1+=w[i-1]+chr(2381)\n",
    "            print(syll)\n",
    "            continue\n",
    "        if w[i] in vowel and w[i]!='्' and not w[i].isdigit():\n",
    "            print(2)\n",
    "            syll.append(curr1)\n",
    "            curr1=\"\"\n",
    "            print(syll)\n",
    "            continue\n",
    "        if w[i] not in vowel  and not w[i].isdigit():\n",
    "            print(3)\n",
    "            if w[i+1] not in vowel:\n",
    "                    print(4)\n",
    "                    syll.append(curr1)\n",
    "                    curr1=\"\"\n",
    "                    print(syll)\n",
    "                    continue\n",
    "        \n",
    "    if curr1!=\"\":\n",
    "        print(5)\n",
    "        syll.append(curr1)\n",
    "        print(syll)\n",
    "    l=len(w)\n",
    "    print(l)\n",
    "         \n",
    "    if l!=1:    \n",
    "        if w[l-1] in vowel and not w[l-1].isdigit():\n",
    "            print(6)\n",
    "            x=syll.pop()\n",
    "            syll.append(x+w[l-1])\n",
    "            print(syll)\n",
    "        \n",
    "        if w[l-1] not in  vowel  and not w[l-1].isdigit():\n",
    "            print(7)\n",
    "            if w[i-2]!='्':\n",
    "                print(8)\n",
    "                syll.append(w[l-1])\n",
    "                print(syll)\n",
    "            if w[i-2]=='्':\n",
    "                print(9)\n",
    "                y=syll.pop()\n",
    "                syll.append(y+w[l-1])\n",
    "                print(syll)\n",
    "        if w[l-1].isdigit():\n",
    "            print(10)\n",
    "            z=syll.pop()\n",
    "            syll.append(z+w[l-1])\n",
    "            print(syll)\n",
    "        \n",
    "            \n",
    "    else:\n",
    "        print(11)\n",
    "        syll.append(w)\n",
    "        print(syll)\n",
    "    \n",
    "        \n",
    "    return syll"
   ]
  },
  {
   "cell_type": "code",
   "execution_count": 20,
   "id": "e7295746",
   "metadata": {},
   "outputs": [
    {
     "name": "stdout",
     "output_type": "stream",
     "text": [
      "3\n",
      "4\n",
      "['क']\n",
      "3\n",
      "1\n",
      "['क']\n",
      "3\n",
      "4\n",
      "['क', 'ल्प']\n",
      "3\n",
      "5\n",
      "['क', 'ल्प', 'न']\n",
      "6\n",
      "6\n",
      "['क', 'ल्प', 'ना']\n"
     ]
    },
    {
     "data": {
      "text/plain": [
       "['क', 'ल्प', 'ना']"
      ]
     },
     "execution_count": 20,
     "metadata": {},
     "output_type": "execute_result"
    }
   ],
   "source": [
    "syl(word)"
   ]
  },
  {
   "cell_type": "code",
   "execution_count": 21,
   "id": "5824a58d",
   "metadata": {},
   "outputs": [],
   "source": [
    "def bigrams(string):\n",
    "    return list(zip(*[string[i:] for i in range(2)]))"
   ]
  },
  {
   "cell_type": "code",
   "execution_count": 22,
   "id": "06065f48",
   "metadata": {},
   "outputs": [
    {
     "data": {
      "text/plain": [
       "[('आ', 'व'), ('व', 'े'), ('े', 'द'), ('द', 'न')]"
      ]
     },
     "execution_count": 22,
     "metadata": {},
     "output_type": "execute_result"
    }
   ],
   "source": [
    "bigrams('आवेदन')"
   ]
  },
  {
   "cell_type": "code",
   "execution_count": null,
   "id": "e823911c",
   "metadata": {},
   "outputs": [],
   "source": []
  }
 ],
 "metadata": {
  "kernelspec": {
   "display_name": "Python 3 (ipykernel)",
   "language": "python",
   "name": "python3"
  },
  "language_info": {
   "codemirror_mode": {
    "name": "ipython",
    "version": 3
   },
   "file_extension": ".py",
   "mimetype": "text/x-python",
   "name": "python",
   "nbconvert_exporter": "python",
   "pygments_lexer": "ipython3",
   "version": "3.11.1"
  }
 },
 "nbformat": 4,
 "nbformat_minor": 5
}
